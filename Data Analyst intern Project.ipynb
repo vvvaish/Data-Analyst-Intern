{
 "cells": [
  {
   "cell_type": "code",
   "execution_count": 1,
   "metadata": {},
   "outputs": [],
   "source": [
    "#Loading Packages\n",
    "import pandas as pd\n",
    "import numpy as np\n",
    "import seaborn as sns"
   ]
  },
  {
   "cell_type": "code",
   "execution_count": 2,
   "metadata": {},
   "outputs": [],
   "source": [
    "#Loading Data\n",
    "data = pd.read_csv('Data_analyst_intern1.csv')"
   ]
  },
  {
   "cell_type": "code",
   "execution_count": 3,
   "metadata": {},
   "outputs": [
    {
     "data": {
      "text/plain": [
       "0"
      ]
     },
     "execution_count": 3,
     "metadata": {},
     "output_type": "execute_result"
    }
   ],
   "source": [
    "data.duplicated().sum()"
   ]
  },
  {
   "cell_type": "code",
   "execution_count": 4,
   "metadata": {},
   "outputs": [
    {
     "name": "stdout",
     "output_type": "stream",
     "text": [
      "<class 'pandas.core.frame.DataFrame'>\n",
      "RangeIndex: 533327 entries, 0 to 533326\n",
      "Data columns (total 8 columns):\n",
      " #   Column       Non-Null Count   Dtype \n",
      "---  ------       --------------   ----- \n",
      " 0   id           533327 non-null  int64 \n",
      " 1   customer_id  533327 non-null  int64 \n",
      " 2   location_id  533327 non-null  int64 \n",
      " 3   channel      533327 non-null  object\n",
      " 4   amount       533327 non-null  int64 \n",
      " 5   bill_no      533327 non-null  object\n",
      " 6   created_on   533327 non-null  object\n",
      " 7   month        533327 non-null  int64 \n",
      "dtypes: int64(5), object(3)\n",
      "memory usage: 32.6+ MB\n"
     ]
    }
   ],
   "source": [
    "#checking for null values\n",
    "data.info()"
   ]
  },
  {
   "cell_type": "code",
   "execution_count": 5,
   "metadata": {},
   "outputs": [
    {
     "data": {
      "text/html": [
       "<div>\n",
       "<style scoped>\n",
       "    .dataframe tbody tr th:only-of-type {\n",
       "        vertical-align: middle;\n",
       "    }\n",
       "\n",
       "    .dataframe tbody tr th {\n",
       "        vertical-align: top;\n",
       "    }\n",
       "\n",
       "    .dataframe thead th {\n",
       "        text-align: right;\n",
       "    }\n",
       "</style>\n",
       "<table border=\"1\" class=\"dataframe\">\n",
       "  <thead>\n",
       "    <tr style=\"text-align: right;\">\n",
       "      <th></th>\n",
       "      <th>id</th>\n",
       "      <th>customer_id</th>\n",
       "      <th>location_id</th>\n",
       "      <th>channel</th>\n",
       "      <th>amount</th>\n",
       "      <th>bill_no</th>\n",
       "      <th>created_on</th>\n",
       "      <th>month</th>\n",
       "    </tr>\n",
       "  </thead>\n",
       "  <tbody>\n",
       "    <tr>\n",
       "      <th>533322</th>\n",
       "      <td>63920571</td>\n",
       "      <td>11655184</td>\n",
       "      <td>218</td>\n",
       "      <td>zomato</td>\n",
       "      <td>674</td>\n",
       "      <td>GGN004-49266</td>\n",
       "      <td>10-04-19</td>\n",
       "      <td>4</td>\n",
       "    </tr>\n",
       "    <tr>\n",
       "      <th>533323</th>\n",
       "      <td>63920575</td>\n",
       "      <td>11655185</td>\n",
       "      <td>4002</td>\n",
       "      <td>dine in</td>\n",
       "      <td>1565</td>\n",
       "      <td>DEL009-26660</td>\n",
       "      <td>10-04-19</td>\n",
       "      <td>4</td>\n",
       "    </tr>\n",
       "    <tr>\n",
       "      <th>533324</th>\n",
       "      <td>63920583</td>\n",
       "      <td>11655186</td>\n",
       "      <td>194</td>\n",
       "      <td>zomato</td>\n",
       "      <td>217</td>\n",
       "      <td>GGN002-70779</td>\n",
       "      <td>10-04-19</td>\n",
       "      <td>4</td>\n",
       "    </tr>\n",
       "    <tr>\n",
       "      <th>533325</th>\n",
       "      <td>63920586</td>\n",
       "      <td>11655187</td>\n",
       "      <td>192</td>\n",
       "      <td>uber</td>\n",
       "      <td>252</td>\n",
       "      <td>GGN001-88302</td>\n",
       "      <td>10-04-19</td>\n",
       "      <td>4</td>\n",
       "    </tr>\n",
       "    <tr>\n",
       "      <th>533326</th>\n",
       "      <td>63920591</td>\n",
       "      <td>11655188</td>\n",
       "      <td>4002</td>\n",
       "      <td>uber</td>\n",
       "      <td>252</td>\n",
       "      <td>DEL009-26737</td>\n",
       "      <td>10-04-19</td>\n",
       "      <td>4</td>\n",
       "    </tr>\n",
       "  </tbody>\n",
       "</table>\n",
       "</div>"
      ],
      "text/plain": [
       "              id  customer_id  location_id  channel  amount       bill_no  \\\n",
       "533322  63920571     11655184          218   zomato     674  GGN004-49266   \n",
       "533323  63920575     11655185         4002  dine in    1565  DEL009-26660   \n",
       "533324  63920583     11655186          194   zomato     217  GGN002-70779   \n",
       "533325  63920586     11655187          192     uber     252  GGN001-88302   \n",
       "533326  63920591     11655188         4002     uber     252  DEL009-26737   \n",
       "\n",
       "       created_on  month  \n",
       "533322   10-04-19      4  \n",
       "533323   10-04-19      4  \n",
       "533324   10-04-19      4  \n",
       "533325   10-04-19      4  \n",
       "533326   10-04-19      4  "
      ]
     },
     "execution_count": 5,
     "metadata": {},
     "output_type": "execute_result"
    }
   ],
   "source": [
    "data.tail(5)"
   ]
  },
  {
   "cell_type": "code",
   "execution_count": 6,
   "metadata": {},
   "outputs": [
    {
     "name": "stdout",
     "output_type": "stream",
     "text": [
      "<class 'pandas.core.frame.DataFrame'>\n",
      "RangeIndex: 533327 entries, 0 to 533326\n",
      "Data columns (total 8 columns):\n",
      " #   Column       Non-Null Count   Dtype \n",
      "---  ------       --------------   ----- \n",
      " 0   id           533327 non-null  int64 \n",
      " 1   customer_id  533327 non-null  int64 \n",
      " 2   location_id  533327 non-null  int64 \n",
      " 3   channel      533327 non-null  object\n",
      " 4   amount       533327 non-null  int64 \n",
      " 5   bill_no      533327 non-null  object\n",
      " 6   created_on   533327 non-null  object\n",
      " 7   month        533327 non-null  int64 \n",
      "dtypes: int64(5), object(3)\n",
      "memory usage: 32.6+ MB\n"
     ]
    }
   ],
   "source": [
    "data.info()"
   ]
  },
  {
   "cell_type": "code",
   "execution_count": 7,
   "metadata": {},
   "outputs": [],
   "source": [
    "revenue=data.groupby(['month'])['amount'].sum()"
   ]
  },
  {
   "cell_type": "code",
   "execution_count": null,
   "metadata": {},
   "outputs": [],
   "source": []
  },
  {
   "cell_type": "code",
   "execution_count": 8,
   "metadata": {},
   "outputs": [],
   "source": [
    "orders=data.groupby('month').bill_no.count()"
   ]
  },
  {
   "cell_type": "code",
   "execution_count": 9,
   "metadata": {},
   "outputs": [],
   "source": [
    "Customers=data.groupby('month').customer_id.nunique()"
   ]
  },
  {
   "cell_type": "code",
   "execution_count": 10,
   "metadata": {},
   "outputs": [],
   "source": [
    "def new_customer(x,y):\n",
    "    if x ==0:\n",
    "        return None\n",
    "    else:\n",
    "        return y\n",
    "data['NewCol'] = data.apply(lambda x: new_customer(x['amount'], x['customer_id']), axis=1)\n",
    "#data['new_customer_id'] = data.apply(new_customer,args=(data['amount'],data['customer_id']))"
   ]
  },
  {
   "cell_type": "code",
   "execution_count": 11,
   "metadata": {},
   "outputs": [
    {
     "data": {
      "text/html": [
       "<div>\n",
       "<style scoped>\n",
       "    .dataframe tbody tr th:only-of-type {\n",
       "        vertical-align: middle;\n",
       "    }\n",
       "\n",
       "    .dataframe tbody tr th {\n",
       "        vertical-align: top;\n",
       "    }\n",
       "\n",
       "    .dataframe thead th {\n",
       "        text-align: right;\n",
       "    }\n",
       "</style>\n",
       "<table border=\"1\" class=\"dataframe\">\n",
       "  <thead>\n",
       "    <tr style=\"text-align: right;\">\n",
       "      <th></th>\n",
       "      <th>id</th>\n",
       "      <th>customer_id</th>\n",
       "      <th>location_id</th>\n",
       "      <th>channel</th>\n",
       "      <th>amount</th>\n",
       "      <th>bill_no</th>\n",
       "      <th>created_on</th>\n",
       "      <th>month</th>\n",
       "      <th>NewCol</th>\n",
       "    </tr>\n",
       "  </thead>\n",
       "  <tbody>\n",
       "    <tr>\n",
       "      <th>0</th>\n",
       "      <td>42877344</td>\n",
       "      <td>60</td>\n",
       "      <td>192</td>\n",
       "      <td>uber</td>\n",
       "      <td>1039</td>\n",
       "      <td>GGN001-24323</td>\n",
       "      <td>24-06-18</td>\n",
       "      <td>6</td>\n",
       "      <td>60.0</td>\n",
       "    </tr>\n",
       "    <tr>\n",
       "      <th>1</th>\n",
       "      <td>35625005</td>\n",
       "      <td>134</td>\n",
       "      <td>535</td>\n",
       "      <td>takeaway</td>\n",
       "      <td>1029</td>\n",
       "      <td>DEL007-1522</td>\n",
       "      <td>14-01-18</td>\n",
       "      <td>1</td>\n",
       "      <td>134.0</td>\n",
       "    </tr>\n",
       "    <tr>\n",
       "      <th>2</th>\n",
       "      <td>44397299</td>\n",
       "      <td>166</td>\n",
       "      <td>347</td>\n",
       "      <td>uber</td>\n",
       "      <td>355</td>\n",
       "      <td>DEL005-29173</td>\n",
       "      <td>13-09-18</td>\n",
       "      <td>9</td>\n",
       "      <td>166.0</td>\n",
       "    </tr>\n",
       "    <tr>\n",
       "      <th>3</th>\n",
       "      <td>44405460</td>\n",
       "      <td>166</td>\n",
       "      <td>347</td>\n",
       "      <td>uber</td>\n",
       "      <td>371</td>\n",
       "      <td>DEL005-29180</td>\n",
       "      <td>13-09-18</td>\n",
       "      <td>9</td>\n",
       "      <td>166.0</td>\n",
       "    </tr>\n",
       "    <tr>\n",
       "      <th>4</th>\n",
       "      <td>44717004</td>\n",
       "      <td>166</td>\n",
       "      <td>347</td>\n",
       "      <td>uber</td>\n",
       "      <td>371</td>\n",
       "      <td>DEL005-29603</td>\n",
       "      <td>16-09-18</td>\n",
       "      <td>9</td>\n",
       "      <td>166.0</td>\n",
       "    </tr>\n",
       "  </tbody>\n",
       "</table>\n",
       "</div>"
      ],
      "text/plain": [
       "         id  customer_id  location_id   channel  amount       bill_no  \\\n",
       "0  42877344           60          192      uber    1039  GGN001-24323   \n",
       "1  35625005          134          535  takeaway    1029   DEL007-1522   \n",
       "2  44397299          166          347      uber     355  DEL005-29173   \n",
       "3  44405460          166          347      uber     371  DEL005-29180   \n",
       "4  44717004          166          347      uber     371  DEL005-29603   \n",
       "\n",
       "  created_on  month  NewCol  \n",
       "0   24-06-18      6    60.0  \n",
       "1   14-01-18      1   134.0  \n",
       "2   13-09-18      9   166.0  \n",
       "3   13-09-18      9   166.0  \n",
       "4   16-09-18      9   166.0  "
      ]
     },
     "execution_count": 11,
     "metadata": {},
     "output_type": "execute_result"
    }
   ],
   "source": [
    "\n",
    "data.head(5)"
   ]
  },
  {
   "cell_type": "code",
   "execution_count": 12,
   "metadata": {},
   "outputs": [],
   "source": [
    "new_customer=data.groupby('month').NewCol.nunique()"
   ]
  },
  {
   "cell_type": "code",
   "execution_count": 37,
   "metadata": {},
   "outputs": [
    {
     "name": "stdout",
     "output_type": "stream",
     "text": [
      "Month  Amount   Orders  Customers  New Customers    Frequency      \n",
      "1     32618857   54308    38558    38548          1.40847554333731\n",
      "2     34069472   64467    46386    46321          1.3897943344974777\n",
      "3     40856589   85777    59422    59187          1.4435226010568476\n",
      "4     21906207   43651    32111    31988          1.3593784061536545\n",
      "5     15520988   27844    19786    19786          1.4072576569291417\n",
      "6     16853200   29488    21234    21234          1.388716209852124\n",
      "7     19219256   32578    23862    23862          1.3652669516385885\n",
      "8     15657494   26533    20230    20230          1.3115669797330698\n",
      "9     16686127   35130    25731    25731          1.3652792351638101\n",
      "10     23063965   39498    28381    28330          1.391705718614566\n",
      "11     31717713   52036    36952    36952          1.4082052392292703\n",
      "12     25906568   42017    31239    31210          1.3450174461410416\n"
     ]
    }
   ],
   "source": [
    "print('Month ','Amount  ','Orders ','Customers ','New Customers   ','Frequency      ')\n",
    "for i in range(1,13):\n",
    "    print(i,'   ',revenue[i],' ',orders[i],'  ',Customers[i],'  ',new_customer[i],'        ',orders[i]/Customers[i])"
   ]
  },
  {
   "cell_type": "code",
   "execution_count": null,
   "metadata": {},
   "outputs": [],
   "source": []
  }
 ],
 "metadata": {
  "kernelspec": {
   "display_name": "Python 3",
   "language": "python",
   "name": "python3"
  },
  "language_info": {
   "codemirror_mode": {
    "name": "ipython",
    "version": 3
   },
   "file_extension": ".py",
   "mimetype": "text/x-python",
   "name": "python",
   "nbconvert_exporter": "python",
   "pygments_lexer": "ipython3",
   "version": "3.8.3"
  }
 },
 "nbformat": 4,
 "nbformat_minor": 4
}
